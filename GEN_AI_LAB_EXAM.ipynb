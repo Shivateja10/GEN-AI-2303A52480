{
  "nbformat": 4,
  "nbformat_minor": 0,
  "metadata": {
    "colab": {
      "provenance": [],
      "authorship_tag": "ABX9TyOvU7T2KcP/siLY9U4VR5fZ",
      "include_colab_link": true
    },
    "kernelspec": {
      "name": "python3",
      "display_name": "Python 3"
    },
    "language_info": {
      "name": "python"
    }
  },
  "cells": [
    {
      "cell_type": "markdown",
      "metadata": {
        "id": "view-in-github",
        "colab_type": "text"
      },
      "source": [
        "<a href=\"https://colab.research.google.com/github/Shivateja10/GEN-AI-2303A52480/blob/main/GEN_AI_LAB_EXAM.ipynb\" target=\"_parent\"><img src=\"https://colab.research.google.com/assets/colab-badge.svg\" alt=\"Open In Colab\"/></a>"
      ]
    },
    {
      "cell_type": "markdown",
      "source": [
        "Question-01"
      ],
      "metadata": {
        "id": "lPV6usNQv0v6"
      }
    },
    {
      "cell_type": "code",
      "execution_count": 4,
      "metadata": {
        "colab": {
          "base_uri": "https://localhost:8080/"
        },
        "id": "vjAjofHvt3e1",
        "outputId": "2849f540-eaaf-43be-cbd9-fde7ecc8914b"
      },
      "outputs": [
        {
          "output_type": "stream",
          "name": "stdout",
          "text": [
            "Optiomal solution found:\n",
            "X = 0.00, Y = 0.00, Z = 14.00\n",
            "Maximum value of P = 84.00\n"
          ]
        }
      ],
      "source": [
        "from scipy.optimize import linprog\n",
        "\n",
        "A = [[2, 1, 1], [4, 3, 0]]\n",
        "B = [14, 20]\n",
        "C = [-4, -5, -6]\n",
        "\n",
        "x_bounds = (0, None)\n",
        "y_bounds = (0, None)\n",
        "z_bounds = (0, None)\n",
        "\n",
        "bounds = [x_bounds, y_bounds, z_bounds]\n",
        "\n",
        "result = linprog(C, A_ub=A, b_ub=B, bounds=bounds, method='highs')\n",
        "\n",
        "if result.success:\n",
        "  print(\"Optiomal solution found:\")\n",
        "  print(f\"X = {result.x[0]:.2f}, Y = {result.x[1]:.2f}, Z = {result.x[2]:.2f}\")\n",
        "  print(f\"Maximum value of P = {-result.fun:.2f}\")\n",
        "\n",
        "else:\n",
        "  print(\"No optimal solution found.\")"
      ]
    },
    {
      "cell_type": "markdown",
      "source": [
        "Question-08"
      ],
      "metadata": {
        "id": "ye0MJJ39wqA6"
      }
    },
    {
      "cell_type": "code",
      "source": [
        "import numpy as np\n",
        "from sklearn.metrics import confusion_matrix, precision_score, recall_score, f1_score\n",
        "\n",
        "Y_actual = np.array([0, 0, 0, 0, 0, 1, 1, 1, 1, 1])\n",
        "Y_pred   = np.array([0, 0, 1, 1, 0, 1, 0, 1, 0, 1])\n",
        "\n",
        "TP = np.sum((Y_actual == 1) & (Y_pred == 1))\n",
        "FP = np.sum((Y_actual == 0) & (Y_pred == 1))\n",
        "FN = np.sum((Y_actual == 1) & (Y_pred == 0))\n",
        "TN = np.sum((Y_actual == 0) & (Y_pred == 0))\n",
        "\n",
        "conf_matrix = np.array([[TN, FP], [FN, TP]])\n",
        "\n",
        "precision_manual = TP / (TP + FP) if (TP + FP) > 0 else 0\n",
        "recall_manual = TP / (TP + FN) if (TP + FN) > 0 else 0\n",
        "\n",
        "f1_manual = 2 * (precision_manual * recall_manual) / (precision_manual + recall_manual) if (precision_manual + recall_manual) > 0 else 0\n",
        "\n",
        "conf_matrix_lib = confusion_matrix(Y_actual, Y_pred)\n",
        "precision_lib = precision_score(Y_actual, Y_pred)\n",
        "recall_lib = recall_score(Y_actual, Y_pred)\n",
        "f1_lib = f1_score(Y_actual, Y_pred)\n",
        "\n",
        "print(\"Confusion Matrix (Manual Calculation):\\n\", conf_matrix)\n",
        "print(\"Precision (Manual Calculation):\", precision_manual)\n",
        "print(\"Recall (Manual Calculation):\", recall_manual)\n",
        "print(\"F1-Score (Manual Calculation):\", f1_manual)\n",
        "print(\"\\nConfusion Matrix (Sklearn):\\n\", conf_matrix_lib)\n",
        "print(\"Precision (Sklearn):\", precision_lib)\n",
        "print(\"Recall (Sklearn):\", recall_lib)\n",
        "print(\"F1-Score (Sklearn):\", f1_lib)\n"
      ],
      "metadata": {
        "colab": {
          "base_uri": "https://localhost:8080/"
        },
        "id": "kkEy1JNwwr-K",
        "outputId": "96758bb9-ba81-44c5-8196-e483e6232977"
      },
      "execution_count": 5,
      "outputs": [
        {
          "output_type": "stream",
          "name": "stdout",
          "text": [
            "Confusion Matrix (Manual Calculation):\n",
            " [[3 2]\n",
            " [2 3]]\n",
            "Precision (Manual Calculation): 0.6\n",
            "Recall (Manual Calculation): 0.6\n",
            "F1-Score (Manual Calculation): 0.6\n",
            "\n",
            "Confusion Matrix (Sklearn):\n",
            " [[3 2]\n",
            " [2 3]]\n",
            "Precision (Sklearn): 0.6\n",
            "Recall (Sklearn): 0.6\n",
            "F1-Score (Sklearn): 0.6\n"
          ]
        }
      ]
    }
  ]
}